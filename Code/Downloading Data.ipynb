{
 "cells": [
  {
   "cell_type": "markdown",
   "metadata": {},
   "source": [
    "# Downloading Data"
   ]
  },
  {
   "cell_type": "code",
   "execution_count": 8,
   "metadata": {},
   "outputs": [],
   "source": [
    "# We only need 2 imports for this notebook.\n",
    "import pandas as pd\n",
    "import os"
   ]
  },
  {
   "cell_type": "markdown",
   "metadata": {},
   "source": [
    "Download data from this website after creating an account\n",
    "https://www.lendingclub.com/info/statistics.action\n",
    "\n",
    "We have done this and stored the files in a directory titled Data/Downloaded_Files\n",
    "Below, we are consolidating loan statistics files from 2019 into a single dataframe creating this into a csv file for our main notebook."
   ]
  },
  {
   "cell_type": "code",
   "execution_count": 9,
   "metadata": {},
   "outputs": [
    {
     "name": "stderr",
     "output_type": "stream",
     "text": [
      "C:\\Users\\16463\\AppData\\Local\\Continuum\\anaconda3\\lib\\site-packages\\IPython\\core\\interactiveshell.py:3063: DtypeWarning: Columns (0) have mixed types.Specify dtype option on import or set low_memory=False.\n",
      "  interactivity=interactivity, compiler=compiler, result=result)\n",
      "C:\\Users\\16463\\AppData\\Local\\Continuum\\anaconda3\\lib\\site-packages\\IPython\\core\\interactiveshell.py:3063: DtypeWarning: Columns (0,144,145,146) have mixed types.Specify dtype option on import or set low_memory=False.\n",
      "  interactivity=interactivity, compiler=compiler, result=result)\n",
      "C:\\Users\\16463\\AppData\\Local\\Continuum\\anaconda3\\lib\\site-packages\\IPython\\core\\interactiveshell.py:3063: DtypeWarning: Columns (129,130,131,134,135,136,139,144,145,146) have mixed types.Specify dtype option on import or set low_memory=False.\n",
      "  interactivity=interactivity, compiler=compiler, result=result)\n",
      "C:\\Users\\16463\\AppData\\Local\\Continuum\\anaconda3\\lib\\site-packages\\IPython\\core\\interactiveshell.py:3063: DtypeWarning: Columns (0,129,130,131,134,135,136,139,144,145,146) have mixed types.Specify dtype option on import or set low_memory=False.\n",
      "  interactivity=interactivity, compiler=compiler, result=result)\n",
      "C:\\Users\\16463\\AppData\\Local\\Continuum\\anaconda3\\lib\\site-packages\\IPython\\core\\interactiveshell.py:3063: DtypeWarning: Columns (144,145,146) have mixed types.Specify dtype option on import or set low_memory=False.\n",
      "  interactivity=interactivity, compiler=compiler, result=result)\n"
     ]
    }
   ],
   "source": [
    "# creating a list for files in the Data folder\n",
    "data_file_list = os.listdir('../Data/Downloaded_Files')\n",
    "\n",
    "# creating a list of file names for each dataframe\n",
    "df_name_list = []\n",
    "\n",
    "# creating a dictionary to store all dataframes\n",
    "dict_of_dfs = {}\n",
    "for file in data_file_list:\n",
    "    \n",
    "    # these names will be used for each dataframe\n",
    "    name = file[19:27]\n",
    "    \n",
    "    # adding name to list\n",
    "    df_name_list.append(name)\n",
    "    \n",
    "    # creating local variable for full file name\n",
    "    full_file_name = '../Data/Downloaded_Files/'+file\n",
    "    \n",
    "    # adding a dataframe for each file into the dictionary of dataframes\n",
    "    dict_of_dfs[name] = pd.read_csv(full_file_name, header = 1)\n",
    "\n",
    "# combining the list of dataframes into 1 df\n",
    "df = pd.concat(dict_of_dfs)"
   ]
  },
  {
   "cell_type": "code",
   "execution_count": 10,
   "metadata": {},
   "outputs": [
    {
     "data": {
      "text/plain": [
       "(518002, 150)"
      ]
     },
     "execution_count": 10,
     "metadata": {},
     "output_type": "execute_result"
    }
   ],
   "source": [
    "# There are over half a million observations\n",
    "df.shape"
   ]
  },
  {
   "cell_type": "code",
   "execution_count": 11,
   "metadata": {},
   "outputs": [
    {
     "data": {
      "text/html": [
       "<div>\n",
       "<style scoped>\n",
       "    .dataframe tbody tr th:only-of-type {\n",
       "        vertical-align: middle;\n",
       "    }\n",
       "\n",
       "    .dataframe tbody tr th {\n",
       "        vertical-align: top;\n",
       "    }\n",
       "\n",
       "    .dataframe thead th {\n",
       "        text-align: right;\n",
       "    }\n",
       "</style>\n",
       "<table border=\"1\" class=\"dataframe\">\n",
       "  <thead>\n",
       "    <tr style=\"text-align: right;\">\n",
       "      <th></th>\n",
       "      <th></th>\n",
       "      <th>id</th>\n",
       "      <th>member_id</th>\n",
       "      <th>loan_amnt</th>\n",
       "      <th>funded_amnt</th>\n",
       "      <th>funded_amnt_inv</th>\n",
       "      <th>term</th>\n",
       "      <th>int_rate</th>\n",
       "      <th>installment</th>\n",
       "      <th>grade</th>\n",
       "      <th>sub_grade</th>\n",
       "      <th>...</th>\n",
       "      <th>orig_projected_additional_accrued_interest</th>\n",
       "      <th>hardship_payoff_balance_amount</th>\n",
       "      <th>hardship_last_payment_amount</th>\n",
       "      <th>debt_settlement_flag</th>\n",
       "      <th>debt_settlement_flag_date</th>\n",
       "      <th>settlement_status</th>\n",
       "      <th>settlement_date</th>\n",
       "      <th>settlement_amount</th>\n",
       "      <th>settlement_percentage</th>\n",
       "      <th>settlement_term</th>\n",
       "    </tr>\n",
       "  </thead>\n",
       "  <tbody>\n",
       "    <tr>\n",
       "      <th rowspan=\"5\" valign=\"top\">2019Q1_1</th>\n",
       "      <th>0</th>\n",
       "      <td>149328059</td>\n",
       "      <td>NaN</td>\n",
       "      <td>13500.0</td>\n",
       "      <td>13500.0</td>\n",
       "      <td>13500.0</td>\n",
       "      <td>36 months</td>\n",
       "      <td>7.56%</td>\n",
       "      <td>420.31</td>\n",
       "      <td>A</td>\n",
       "      <td>A3</td>\n",
       "      <td>...</td>\n",
       "      <td>NaN</td>\n",
       "      <td>NaN</td>\n",
       "      <td>NaN</td>\n",
       "      <td>N</td>\n",
       "      <td>NaN</td>\n",
       "      <td>NaN</td>\n",
       "      <td>NaN</td>\n",
       "      <td>NaN</td>\n",
       "      <td>NaN</td>\n",
       "      <td>NaN</td>\n",
       "    </tr>\n",
       "    <tr>\n",
       "      <th>1</th>\n",
       "      <td>149420408</td>\n",
       "      <td>NaN</td>\n",
       "      <td>20000.0</td>\n",
       "      <td>20000.0</td>\n",
       "      <td>20000.0</td>\n",
       "      <td>36 months</td>\n",
       "      <td>17.97%</td>\n",
       "      <td>722.75</td>\n",
       "      <td>D</td>\n",
       "      <td>D1</td>\n",
       "      <td>...</td>\n",
       "      <td>NaN</td>\n",
       "      <td>NaN</td>\n",
       "      <td>NaN</td>\n",
       "      <td>N</td>\n",
       "      <td>NaN</td>\n",
       "      <td>NaN</td>\n",
       "      <td>NaN</td>\n",
       "      <td>NaN</td>\n",
       "      <td>NaN</td>\n",
       "      <td>NaN</td>\n",
       "    </tr>\n",
       "    <tr>\n",
       "      <th>2</th>\n",
       "      <td>149453166</td>\n",
       "      <td>NaN</td>\n",
       "      <td>1600.0</td>\n",
       "      <td>1600.0</td>\n",
       "      <td>1575.0</td>\n",
       "      <td>36 months</td>\n",
       "      <td>11.02%</td>\n",
       "      <td>52.40</td>\n",
       "      <td>B</td>\n",
       "      <td>B2</td>\n",
       "      <td>...</td>\n",
       "      <td>NaN</td>\n",
       "      <td>NaN</td>\n",
       "      <td>NaN</td>\n",
       "      <td>N</td>\n",
       "      <td>NaN</td>\n",
       "      <td>NaN</td>\n",
       "      <td>NaN</td>\n",
       "      <td>NaN</td>\n",
       "      <td>NaN</td>\n",
       "      <td>NaN</td>\n",
       "    </tr>\n",
       "    <tr>\n",
       "      <th>3</th>\n",
       "      <td>149491641</td>\n",
       "      <td>NaN</td>\n",
       "      <td>6400.0</td>\n",
       "      <td>6400.0</td>\n",
       "      <td>6400.0</td>\n",
       "      <td>36 months</td>\n",
       "      <td>13.90%</td>\n",
       "      <td>218.43</td>\n",
       "      <td>C</td>\n",
       "      <td>C1</td>\n",
       "      <td>...</td>\n",
       "      <td>NaN</td>\n",
       "      <td>NaN</td>\n",
       "      <td>NaN</td>\n",
       "      <td>N</td>\n",
       "      <td>NaN</td>\n",
       "      <td>NaN</td>\n",
       "      <td>NaN</td>\n",
       "      <td>NaN</td>\n",
       "      <td>NaN</td>\n",
       "      <td>NaN</td>\n",
       "    </tr>\n",
       "    <tr>\n",
       "      <th>4</th>\n",
       "      <td>149513578</td>\n",
       "      <td>NaN</td>\n",
       "      <td>25000.0</td>\n",
       "      <td>25000.0</td>\n",
       "      <td>25000.0</td>\n",
       "      <td>36 months</td>\n",
       "      <td>8.19%</td>\n",
       "      <td>785.61</td>\n",
       "      <td>A</td>\n",
       "      <td>A4</td>\n",
       "      <td>...</td>\n",
       "      <td>NaN</td>\n",
       "      <td>NaN</td>\n",
       "      <td>NaN</td>\n",
       "      <td>N</td>\n",
       "      <td>NaN</td>\n",
       "      <td>NaN</td>\n",
       "      <td>NaN</td>\n",
       "      <td>NaN</td>\n",
       "      <td>NaN</td>\n",
       "      <td>NaN</td>\n",
       "    </tr>\n",
       "  </tbody>\n",
       "</table>\n",
       "<p>5 rows × 150 columns</p>\n",
       "</div>"
      ],
      "text/plain": [
       "                   id  member_id  loan_amnt  funded_amnt  funded_amnt_inv  \\\n",
       "2019Q1_1 0  149328059        NaN    13500.0      13500.0          13500.0   \n",
       "         1  149420408        NaN    20000.0      20000.0          20000.0   \n",
       "         2  149453166        NaN     1600.0       1600.0           1575.0   \n",
       "         3  149491641        NaN     6400.0       6400.0           6400.0   \n",
       "         4  149513578        NaN    25000.0      25000.0          25000.0   \n",
       "\n",
       "                  term int_rate  installment grade sub_grade  ...  \\\n",
       "2019Q1_1 0   36 months    7.56%       420.31     A        A3  ...   \n",
       "         1   36 months   17.97%       722.75     D        D1  ...   \n",
       "         2   36 months   11.02%        52.40     B        B2  ...   \n",
       "         3   36 months   13.90%       218.43     C        C1  ...   \n",
       "         4   36 months    8.19%       785.61     A        A4  ...   \n",
       "\n",
       "           orig_projected_additional_accrued_interest  \\\n",
       "2019Q1_1 0                                        NaN   \n",
       "         1                                        NaN   \n",
       "         2                                        NaN   \n",
       "         3                                        NaN   \n",
       "         4                                        NaN   \n",
       "\n",
       "           hardship_payoff_balance_amount hardship_last_payment_amount  \\\n",
       "2019Q1_1 0                            NaN                          NaN   \n",
       "         1                            NaN                          NaN   \n",
       "         2                            NaN                          NaN   \n",
       "         3                            NaN                          NaN   \n",
       "         4                            NaN                          NaN   \n",
       "\n",
       "            debt_settlement_flag debt_settlement_flag_date settlement_status  \\\n",
       "2019Q1_1 0                     N                       NaN               NaN   \n",
       "         1                     N                       NaN               NaN   \n",
       "         2                     N                       NaN               NaN   \n",
       "         3                     N                       NaN               NaN   \n",
       "         4                     N                       NaN               NaN   \n",
       "\n",
       "           settlement_date settlement_amount settlement_percentage  \\\n",
       "2019Q1_1 0             NaN               NaN                   NaN   \n",
       "         1             NaN               NaN                   NaN   \n",
       "         2             NaN               NaN                   NaN   \n",
       "         3             NaN               NaN                   NaN   \n",
       "         4             NaN               NaN                   NaN   \n",
       "\n",
       "            settlement_term  \n",
       "2019Q1_1 0              NaN  \n",
       "         1              NaN  \n",
       "         2              NaN  \n",
       "         3              NaN  \n",
       "         4              NaN  \n",
       "\n",
       "[5 rows x 150 columns]"
      ]
     },
     "execution_count": 11,
     "metadata": {},
     "output_type": "execute_result"
    }
   ],
   "source": [
    "# observing the first 5 rows\n",
    "df.head()"
   ]
  },
  {
   "cell_type": "code",
   "execution_count": 12,
   "metadata": {
    "scrolled": true
   },
   "outputs": [
    {
     "data": {
      "text/plain": [
       "Current               0.892233\n",
       "Fully Paid            0.074658\n",
       "Late (31-120 days)    0.011794\n",
       "Charged Off           0.010606\n",
       "In Grace Period       0.007778\n",
       "Late (16-30 days)     0.002921\n",
       "Default               0.000010\n",
       "Name: loan_status, dtype: float64"
      ]
     },
     "execution_count": 12,
     "metadata": {},
     "output_type": "execute_result"
    }
   ],
   "source": [
    "# viewing values in loan_status\n",
    "# most of these are current loans, which we will strip out, since we do not know the target variable.\n",
    "df['loan_status'].value_counts(normalize = True)"
   ]
  },
  {
   "cell_type": "code",
   "execution_count": 13,
   "metadata": {},
   "outputs": [
    {
     "data": {
      "text/plain": [
       "(44171, 150)"
      ]
     },
     "execution_count": 13,
     "metadata": {},
     "output_type": "execute_result"
    }
   ],
   "source": [
    "# Taking a subset of our loan data, only the completed loans (Fully Paid, Charged Off, Default) \n",
    "# this will reduce our number of observations to 44,000, but we think this is enough. \n",
    "df = df[df.loan_status.isin(['Charged Off', 'Default', 'Fully Paid'])]\n",
    "df.shape"
   ]
  },
  {
   "cell_type": "code",
   "execution_count": 14,
   "metadata": {},
   "outputs": [],
   "source": [
    "# creating CSV file for dataframe for EDA in our master notebook.\n",
    "df.to_csv('../Data/FullLoanStats.csv')"
   ]
  }
 ],
 "metadata": {
  "kernelspec": {
   "display_name": "Python 3",
   "language": "python",
   "name": "python3"
  },
  "language_info": {
   "codemirror_mode": {
    "name": "ipython",
    "version": 3
   },
   "file_extension": ".py",
   "mimetype": "text/x-python",
   "name": "python",
   "nbconvert_exporter": "python",
   "pygments_lexer": "ipython3",
   "version": "3.7.6"
  }
 },
 "nbformat": 4,
 "nbformat_minor": 4
}
